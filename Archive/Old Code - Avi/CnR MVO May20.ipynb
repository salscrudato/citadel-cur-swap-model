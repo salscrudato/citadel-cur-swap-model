{
 "cells": [
  {
   "cell_type": "code",
   "execution_count": 2,
   "id": "a238db69",
   "metadata": {},
   "outputs": [
    {
     "name": "stdout",
     "output_type": "stream",
     "text": [
      "Requirement already satisfied: cvxpy in /opt/anaconda3/lib/python3.11/site-packages (1.5.1)\n",
      "Requirement already satisfied: osqp>=0.6.2 in /opt/anaconda3/lib/python3.11/site-packages (from cvxpy) (0.6.5)\n",
      "Requirement already satisfied: ecos>=2 in /opt/anaconda3/lib/python3.11/site-packages (from cvxpy) (2.0.13)\n",
      "Requirement already satisfied: clarabel>=0.5.0 in /opt/anaconda3/lib/python3.11/site-packages (from cvxpy) (0.7.1)\n",
      "Requirement already satisfied: scs>=3.2.4.post1 in /opt/anaconda3/lib/python3.11/site-packages (from cvxpy) (3.2.4.post1)\n",
      "Requirement already satisfied: numpy>=1.15 in /opt/anaconda3/lib/python3.11/site-packages (from cvxpy) (1.26.4)\n",
      "Requirement already satisfied: scipy>=1.1.0 in /opt/anaconda3/lib/python3.11/site-packages (from cvxpy) (1.11.4)\n",
      "Requirement already satisfied: qdldl in /opt/anaconda3/lib/python3.11/site-packages (from osqp>=0.6.2->cvxpy) (0.1.7.post2)\n"
     ]
    }
   ],
   "source": [
    "# Imports\n",
    "\n",
    "!pip install cvxpy"
   ]
  },
  {
   "cell_type": "code",
   "execution_count": 3,
   "id": "753ba6d6",
   "metadata": {},
   "outputs": [],
   "source": []
  },
  {
   "cell_type": "code",
   "execution_count": 4,
   "id": "0e04976a",
   "metadata": {},
   "outputs": [],
   "source": []
  },
  {
   "cell_type": "code",
   "execution_count": 5,
   "id": "248aef92",
   "metadata": {},
   "outputs": [],
   "source": []
  },
  {
   "cell_type": "code",
   "execution_count": 10,
   "id": "dbf0ddcd",
   "metadata": {},
   "outputs": [
    {
     "name": "stdout",
     "output_type": "stream",
     "text": [
      "Correlation Matrix:\n",
      "                       CLP_5D_TR  CNY_5D_TR  COP_5D_TR  CZK_5D_TR  HUF_5D_TR  \\\n",
      "Dates                                                                         \n",
      "2024-05-14 CLP_5D_TR   1.000000   0.062424   0.561510   0.533314   0.436933   \n",
      "           CNY_5D_TR   0.062424   1.000000   0.056379   0.060069  -0.060327   \n",
      "           COP_5D_TR   0.561510   0.056379   1.000000   0.446674   0.384353   \n",
      "           CZK_5D_TR   0.533314   0.060069   0.446674   1.000000   0.568366   \n",
      "           HUF_5D_TR   0.436933  -0.060327   0.384353   0.568366   1.000000   \n",
      "           INR_5D_TR   0.462748   0.102036   0.448480   0.466671   0.345140   \n",
      "           ILS_5D_TR   0.468478   0.041427   0.497122   0.514424   0.380595   \n",
      "           KRW_5D_TR   0.460778   0.095286   0.496456   0.484126   0.339967   \n",
      "           MXN_5D_TR   0.622761   0.083799   0.637006   0.591024   0.412527   \n",
      "           PLN_5D_TR   0.395882   0.020512   0.300301   0.621249   0.504733   \n",
      "           ZAR_5D_TR   0.561622   0.044588   0.493936   0.554508   0.475429   \n",
      "\n",
      "                      INR_5D_TR  ILS_5D_TR  KRW_5D_TR  MXN_5D_TR  PLN_5D_TR  \\\n",
      "Dates                                                                         \n",
      "2024-05-14 CLP_5D_TR   0.462748   0.468478   0.460778   0.622761   0.395882   \n",
      "           CNY_5D_TR   0.102036   0.041427   0.095286   0.083799   0.020512   \n",
      "           COP_5D_TR   0.448480   0.497122   0.496456   0.637006   0.300301   \n",
      "           CZK_5D_TR   0.466671   0.514424   0.484126   0.591024   0.621249   \n",
      "           HUF_5D_TR   0.345140   0.380595   0.339967   0.412527   0.504733   \n",
      "           INR_5D_TR   1.000000   0.575900   0.670545   0.500756   0.380363   \n",
      "           ILS_5D_TR   0.575900   1.000000   0.511913   0.438578   0.363743   \n",
      "           KRW_5D_TR   0.670545   0.511913   1.000000   0.519761   0.416249   \n",
      "           MXN_5D_TR   0.500756   0.438578   0.519761   1.000000   0.357774   \n",
      "           PLN_5D_TR   0.380363   0.363743   0.416249   0.357774   1.000000   \n",
      "           ZAR_5D_TR   0.470677   0.522416   0.463275   0.551374   0.456602   \n",
      "\n",
      "                      ZAR_5D_TR  \n",
      "Dates                            \n",
      "2024-05-14 CLP_5D_TR   0.561622  \n",
      "           CNY_5D_TR   0.044588  \n",
      "           COP_5D_TR   0.493936  \n",
      "           CZK_5D_TR   0.554508  \n",
      "           HUF_5D_TR   0.475429  \n",
      "           INR_5D_TR   0.470677  \n",
      "           ILS_5D_TR   0.522416  \n",
      "           KRW_5D_TR   0.463275  \n",
      "           MXN_5D_TR   0.551374  \n",
      "           PLN_5D_TR   0.456602  \n",
      "           ZAR_5D_TR   1.000000  \n",
      "Shape of Correlation Matrix: (11, 11)\n"
     ]
    }
   ],
   "source": []
  },
  {
   "cell_type": "code",
   "execution_count": 11,
   "id": "e9997145",
   "metadata": {},
   "outputs": [
    {
     "name": "stdout",
     "output_type": "stream",
     "text": [
      "\n",
      "Detailed Results:\n",
      "   Currency  Optimal Risk Weight  Std Dev  Expected Return  Optimal DV01\n",
      "0       CLP              1269.20      155             1.05          8.19\n",
      "1       CNY              -970.74       32            -0.11        -30.34\n",
      "2       COP              2419.82      177             1.08         13.67\n",
      "3       CZK             12161.13      128             1.79         95.01\n",
      "4       HUF              2689.99      247             1.21         10.89\n",
      "5       INR             -6044.76       63             0.40        -95.95\n",
      "6       ILS              6570.41      115             1.25         57.13\n",
      "7       KRW             -1258.45       68             0.62        -18.51\n",
      "8       MXN              2742.68      137             1.19         20.02\n",
      "9       PLN             -1080.10      126             0.92         -8.57\n",
      "10      ZAR             -6943.28      103             0.57        -67.41\n",
      "Scaled Portfolio Expected Volatility: 15000.00\n"
     ]
    }
   ],
   "source": []
  },
  {
   "cell_type": "code",
   "execution_count": null,
   "id": "e8743b1a",
   "metadata": {},
   "outputs": [],
   "source": []
  },
  {
   "cell_type": "code",
   "execution_count": null,
   "id": "7c647430",
   "metadata": {},
   "outputs": [],
   "source": []
  }
 ],
 "metadata": {
  "kernelspec": {
   "display_name": "Python 3 (ipykernel)",
   "language": "python",
   "name": "python3"
  },
  "language_info": {
   "codemirror_mode": {
    "name": "ipython",
    "version": 3
   },
   "file_extension": ".py",
   "mimetype": "text/x-python",
   "name": "python",
   "nbconvert_exporter": "python",
   "pygments_lexer": "ipython3",
   "version": "3.11.7"
  }
 },
 "nbformat": 4,
 "nbformat_minor": 5
}
